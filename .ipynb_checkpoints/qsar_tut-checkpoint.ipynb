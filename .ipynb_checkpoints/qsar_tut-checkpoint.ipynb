{
 "cells": [
  {
   "cell_type": "markdown",
   "metadata": {
    "collapsed": true
   },
   "source": [
    "# importiranje programskih biblioteka"
   ]
  },
  {
   "cell_type": "code",
   "execution_count": 1,
   "metadata": {},
   "outputs": [],
   "source": [
    "import pandas as pd\n",
    "import numpy as np\n",
    "from rdkit import Chem\n",
    "from rdkit.Chem import AllChem, Draw, Descriptors"
   ]
  },
  {
   "cell_type": "markdown",
   "metadata": {
    "collapsed": true
   },
   "source": [
    "# importiranje i pregled sirovih podataka"
   ]
  },
  {
   "cell_type": "code",
   "execution_count": 2,
   "metadata": {},
   "outputs": [],
   "source": [
    "sirovi_podaci=pd.read_csv('data/solubility.txt',\\\n",
    "delim_whitespace=True,names=['cas','smiles','logs'])"
   ]
  },
  {
   "cell_type": "code",
   "execution_count": 3,
   "metadata": {},
   "outputs": [
    {
     "data": {
      "text/html": [
       "<div>\n",
       "<style scoped>\n",
       "    .dataframe tbody tr th:only-of-type {\n",
       "        vertical-align: middle;\n",
       "    }\n",
       "\n",
       "    .dataframe tbody tr th {\n",
       "        vertical-align: top;\n",
       "    }\n",
       "\n",
       "    .dataframe thead th {\n",
       "        text-align: right;\n",
       "    }\n",
       "</style>\n",
       "<table border=\"1\" class=\"dataframe\">\n",
       "  <thead>\n",
       "    <tr style=\"text-align: right;\">\n",
       "      <th></th>\n",
       "      <th>cas</th>\n",
       "      <th>smiles</th>\n",
       "      <th>logs</th>\n",
       "    </tr>\n",
       "  </thead>\n",
       "  <tbody>\n",
       "    <tr>\n",
       "      <th>0</th>\n",
       "      <td>60-35-5</td>\n",
       "      <td>CC(N)=O</td>\n",
       "      <td>1.58</td>\n",
       "    </tr>\n",
       "    <tr>\n",
       "      <th>1</th>\n",
       "      <td>60-34-4</td>\n",
       "      <td>CNN</td>\n",
       "      <td>1.34</td>\n",
       "    </tr>\n",
       "    <tr>\n",
       "      <th>2</th>\n",
       "      <td>64-19-7</td>\n",
       "      <td>CC(O)=O</td>\n",
       "      <td>1.22</td>\n",
       "    </tr>\n",
       "    <tr>\n",
       "      <th>3</th>\n",
       "      <td>123-75-1</td>\n",
       "      <td>C1CCCN1</td>\n",
       "      <td>1.15</td>\n",
       "    </tr>\n",
       "    <tr>\n",
       "      <th>4</th>\n",
       "      <td>127-07-1</td>\n",
       "      <td>NC([NH]O)=O</td>\n",
       "      <td>1.12</td>\n",
       "    </tr>\n",
       "  </tbody>\n",
       "</table>\n",
       "</div>"
      ],
      "text/plain": [
       "        cas       smiles  logs\n",
       "0   60-35-5      CC(N)=O  1.58\n",
       "1   60-34-4          CNN  1.34\n",
       "2   64-19-7      CC(O)=O  1.22\n",
       "3  123-75-1      C1CCCN1  1.15\n",
       "4  127-07-1  NC([NH]O)=O  1.12"
      ]
     },
     "execution_count": 3,
     "metadata": {},
     "output_type": "execute_result"
    }
   ],
   "source": [
    "sirovi_podaci.head()"
   ]
  },
  {
   "cell_type": "markdown",
   "metadata": {},
   "source": [
    "# pretvaranje SMILES u mol zapis strukture"
   ]
  },
  {
   "cell_type": "code",
   "execution_count": 4,
   "metadata": {},
   "outputs": [],
   "source": [
    "mol_column=sirovi_podaci.smiles.apply(Chem.MolFromSmiles).rename('mol', inplace=True)"
   ]
  },
  {
   "cell_type": "markdown",
   "metadata": {},
   "source": [
    "# računanje deskriptora"
   ]
  },
  {
   "cell_type": "code",
   "execution_count": 5,
   "metadata": {},
   "outputs": [],
   "source": [
    "logp=mol_column.apply(Descriptors.MolLogP).rename('logp', inplace=True)\n",
    "molwt=mol_column.apply(Descriptors.MolWt).rename('molwt', inplace=True)\n",
    "balabanj=mol_column.apply(Descriptors.BalabanJ).rename('balabanj', inplace=True)\n",
    "tpsa=mol_column.apply(Descriptors.TPSA).rename('tpsa', inplace=True)"
   ]
  },
  {
   "cell_type": "markdown",
   "metadata": {},
   "source": [
    "# fuzija sirovih podataka i deskriptora"
   ]
  },
  {
   "cell_type": "code",
   "execution_count": 6,
   "metadata": {},
   "outputs": [
    {
     "data": {
      "text/html": [
       "<div>\n",
       "<style scoped>\n",
       "    .dataframe tbody tr th:only-of-type {\n",
       "        vertical-align: middle;\n",
       "    }\n",
       "\n",
       "    .dataframe tbody tr th {\n",
       "        vertical-align: top;\n",
       "    }\n",
       "\n",
       "    .dataframe thead th {\n",
       "        text-align: right;\n",
       "    }\n",
       "</style>\n",
       "<table border=\"1\" class=\"dataframe\">\n",
       "  <thead>\n",
       "    <tr style=\"text-align: right;\">\n",
       "      <th></th>\n",
       "      <th>cas</th>\n",
       "      <th>smiles</th>\n",
       "      <th>logs</th>\n",
       "      <th>mol</th>\n",
       "      <th>logp</th>\n",
       "      <th>molwt</th>\n",
       "      <th>balabanj</th>\n",
       "      <th>tpsa</th>\n",
       "    </tr>\n",
       "  </thead>\n",
       "  <tbody>\n",
       "    <tr>\n",
       "      <th>0</th>\n",
       "      <td>60-35-5</td>\n",
       "      <td>CC(N)=O</td>\n",
       "      <td>1.58</td>\n",
       "      <td>&lt;rdkit.Chem.rdchem.Mol object at 0x0000018B455...</td>\n",
       "      <td>-0.5084</td>\n",
       "      <td>59.068</td>\n",
       "      <td>2.803039</td>\n",
       "      <td>43.09</td>\n",
       "    </tr>\n",
       "    <tr>\n",
       "      <th>1</th>\n",
       "      <td>60-34-4</td>\n",
       "      <td>CNN</td>\n",
       "      <td>1.34</td>\n",
       "      <td>&lt;rdkit.Chem.rdchem.Mol object at 0x0000018B455...</td>\n",
       "      <td>-0.9205</td>\n",
       "      <td>46.073</td>\n",
       "      <td>1.632993</td>\n",
       "      <td>38.05</td>\n",
       "    </tr>\n",
       "    <tr>\n",
       "      <th>2</th>\n",
       "      <td>64-19-7</td>\n",
       "      <td>CC(O)=O</td>\n",
       "      <td>1.22</td>\n",
       "      <td>&lt;rdkit.Chem.rdchem.Mol object at 0x0000018B455...</td>\n",
       "      <td>0.0909</td>\n",
       "      <td>60.052</td>\n",
       "      <td>2.803039</td>\n",
       "      <td>37.30</td>\n",
       "    </tr>\n",
       "    <tr>\n",
       "      <th>3</th>\n",
       "      <td>123-75-1</td>\n",
       "      <td>C1CCCN1</td>\n",
       "      <td>1.15</td>\n",
       "      <td>&lt;rdkit.Chem.rdchem.Mol object at 0x0000018B455...</td>\n",
       "      <td>0.3698</td>\n",
       "      <td>71.123</td>\n",
       "      <td>2.083333</td>\n",
       "      <td>12.03</td>\n",
       "    </tr>\n",
       "  </tbody>\n",
       "</table>\n",
       "</div>"
      ],
      "text/plain": [
       "        cas   smiles  logs                                                mol  \\\n",
       "0   60-35-5  CC(N)=O  1.58  <rdkit.Chem.rdchem.Mol object at 0x0000018B455...   \n",
       "1   60-34-4      CNN  1.34  <rdkit.Chem.rdchem.Mol object at 0x0000018B455...   \n",
       "2   64-19-7  CC(O)=O  1.22  <rdkit.Chem.rdchem.Mol object at 0x0000018B455...   \n",
       "3  123-75-1  C1CCCN1  1.15  <rdkit.Chem.rdchem.Mol object at 0x0000018B455...   \n",
       "\n",
       "     logp   molwt  balabanj   tpsa  \n",
       "0 -0.5084  59.068  2.803039  43.09  \n",
       "1 -0.9205  46.073  1.632993  38.05  \n",
       "2  0.0909  60.052  2.803039  37.30  \n",
       "3  0.3698  71.123  2.083333  12.03  "
      ]
     },
     "execution_count": 6,
     "metadata": {},
     "output_type": "execute_result"
    }
   ],
   "source": [
    "final_data=pd.concat([sirovi_podaci, mol_column, logp, molwt, balabanj, tpsa], axis=1)\n",
    "final_data.head(4)"
   ]
  },
  {
   "cell_type": "markdown",
   "metadata": {},
   "source": [
    "#final_data.to_csv('data/solubility_all_data.csv')"
   ]
  },
  {
   "cell_type": "markdown",
   "metadata": {},
   "source": [
    "# razdvajanje podataka na trening i test set"
   ]
  },
  {
   "cell_type": "code",
   "execution_count": 7,
   "metadata": {},
   "outputs": [
    {
     "data": {
      "text/plain": [
       "((1048, 8), (263, 8))"
      ]
     },
     "execution_count": 7,
     "metadata": {},
     "output_type": "execute_result"
    }
   ],
   "source": [
    "from sklearn.model_selection import train_test_split\n",
    "train_set, test_set = train_test_split(final_data, test_size=.2, random_state=42)\n",
    "train_set.shape, test_set.shape"
   ]
  },
  {
   "cell_type": "markdown",
   "metadata": {},
   "source": [
    "# vizualizacija odnosa varijabli"
   ]
  },
  {
   "cell_type": "code",
   "execution_count": 8,
   "metadata": {},
   "outputs": [
    {
     "data": {
      "text/html": [
       "<div>\n",
       "<style scoped>\n",
       "    .dataframe tbody tr th:only-of-type {\n",
       "        vertical-align: middle;\n",
       "    }\n",
       "\n",
       "    .dataframe tbody tr th {\n",
       "        vertical-align: top;\n",
       "    }\n",
       "\n",
       "    .dataframe thead th {\n",
       "        text-align: right;\n",
       "    }\n",
       "</style>\n",
       "<table border=\"1\" class=\"dataframe\">\n",
       "  <thead>\n",
       "    <tr style=\"text-align: right;\">\n",
       "      <th></th>\n",
       "      <th>logp</th>\n",
       "      <th>molwt</th>\n",
       "      <th>tpsa</th>\n",
       "      <th>balabanj</th>\n",
       "      <th>logs</th>\n",
       "    </tr>\n",
       "  </thead>\n",
       "  <tbody>\n",
       "    <tr>\n",
       "      <th>logp</th>\n",
       "      <td>1.000000</td>\n",
       "      <td>0.451401</td>\n",
       "      <td>-0.513134</td>\n",
       "      <td>-0.162983</td>\n",
       "      <td>-0.840738</td>\n",
       "    </tr>\n",
       "    <tr>\n",
       "      <th>molwt</th>\n",
       "      <td>0.451401</td>\n",
       "      <td>1.000000</td>\n",
       "      <td>0.412144</td>\n",
       "      <td>-0.359005</td>\n",
       "      <td>-0.639202</td>\n",
       "    </tr>\n",
       "    <tr>\n",
       "      <th>tpsa</th>\n",
       "      <td>-0.513134</td>\n",
       "      <td>0.412144</td>\n",
       "      <td>1.000000</td>\n",
       "      <td>-0.069396</td>\n",
       "      <td>0.185571</td>\n",
       "    </tr>\n",
       "    <tr>\n",
       "      <th>balabanj</th>\n",
       "      <td>-0.162983</td>\n",
       "      <td>-0.359005</td>\n",
       "      <td>-0.069396</td>\n",
       "      <td>1.000000</td>\n",
       "      <td>0.232376</td>\n",
       "    </tr>\n",
       "    <tr>\n",
       "      <th>logs</th>\n",
       "      <td>-0.840738</td>\n",
       "      <td>-0.639202</td>\n",
       "      <td>0.185571</td>\n",
       "      <td>0.232376</td>\n",
       "      <td>1.000000</td>\n",
       "    </tr>\n",
       "  </tbody>\n",
       "</table>\n",
       "</div>"
      ],
      "text/plain": [
       "              logp     molwt      tpsa  balabanj      logs\n",
       "logp      1.000000  0.451401 -0.513134 -0.162983 -0.840738\n",
       "molwt     0.451401  1.000000  0.412144 -0.359005 -0.639202\n",
       "tpsa     -0.513134  0.412144  1.000000 -0.069396  0.185571\n",
       "balabanj -0.162983 -0.359005 -0.069396  1.000000  0.232376\n",
       "logs     -0.840738 -0.639202  0.185571  0.232376  1.000000"
      ]
     },
     "execution_count": 8,
     "metadata": {},
     "output_type": "execute_result"
    }
   ],
   "source": [
    "train_set[['logp','molwt','tpsa','balabanj','logs']].corr()"
   ]
  },
  {
   "cell_type": "code",
   "execution_count": null,
   "metadata": {},
   "outputs": [],
   "source": [
    "from pandas.plotting import scatter_matrix\n",
    "%matplotlib inline\n",
    "scatter_matrix(train_set[['logp','molwt','tpsa','balabanj','logs']], figsize=(10,12));"
   ]
  },
  {
   "cell_type": "markdown",
   "metadata": {},
   "source": [
    "# izbor najbolje varijable"
   ]
  },
  {
   "cell_type": "code",
   "execution_count": null,
   "metadata": {},
   "outputs": [],
   "source": [
    "from sklearn.feature_selection import f_regression"
   ]
  },
  {
   "cell_type": "code",
   "execution_count": null,
   "metadata": {},
   "outputs": [],
   "source": [
    "help(f_regression)"
   ]
  },
  {
   "cell_type": "code",
   "execution_count": null,
   "metadata": {
    "scrolled": true
   },
   "outputs": [],
   "source": [
    "featsel=f_regression(X=train_set[['logp','molwt','tpsa','balabanj']], y=train_set['logs'])\n",
    "F_values=featsel[0]\n",
    "P_values=featsel[1]\n",
    "P_values"
   ]
  },
  {
   "cell_type": "markdown",
   "metadata": {},
   "source": [
    "# treniranje modela"
   ]
  },
  {
   "cell_type": "code",
   "execution_count": null,
   "metadata": {},
   "outputs": [],
   "source": [
    "from sklearn.linear_model import LinearRegression as linreg"
   ]
  },
  {
   "cell_type": "code",
   "execution_count": null,
   "metadata": {},
   "outputs": [],
   "source": [
    "xtrain=np.array(train_set.logp)[:, np.newaxis]\n",
    "ytrain=np.array(train_set.logs)\n",
    "xtest=np.array(test_set.logp)[:, np.newaxis]\n",
    "y_true=np.array(test_set.logs)"
   ]
  },
  {
   "cell_type": "code",
   "execution_count": null,
   "metadata": {},
   "outputs": [],
   "source": [
    "fitter=linreg().fit(X=xtrain, y=ytrain)\n",
    "a=fitter.coef_\n",
    "b=fitter.intercept_\n",
    "a, b"
   ]
  },
  {
   "cell_type": "markdown",
   "metadata": {},
   "source": [
    "# fitanje modela i predikcija"
   ]
  },
  {
   "cell_type": "code",
   "execution_count": null,
   "metadata": {},
   "outputs": [],
   "source": [
    "y_pred=fitter.predict(X=xtest)"
   ]
  },
  {
   "cell_type": "markdown",
   "metadata": {},
   "source": [
    "# vizualizacija predikcije"
   ]
  },
  {
   "cell_type": "code",
   "execution_count": null,
   "metadata": {
    "scrolled": false
   },
   "outputs": [],
   "source": [
    "import matplotlib.pyplot as plt\n",
    "fig, ax =plt.subplots(figsize=(10,12))\n",
    "#scatter plot\n",
    "plt.scatter(x=test_set.logp, y=test_set.logs, marker='^', label='skup za učenje')\n",
    "#regresijska linija\n",
    "x_space=np.array([min(train_set.logp),max(train_set.logp)])\n",
    "y_fit=x_space*a + b\n",
    "plt.plot(x_space,y_fit, linestyle='--', c='r', lw=3, label=\"regresijski pravac\")\n",
    "#\n",
    "plt.ylabel('logS', fontsize=20, color='red')\n",
    "plt.xlabel('logP', fontsize=20, color='green')\n",
    "plt.title('logS vs. logP', fontsize=20)\n",
    "plt.legend(fontsize=20)"
   ]
  },
  {
   "cell_type": "markdown",
   "metadata": {},
   "source": [
    "# kvaliteta predikcije"
   ]
  },
  {
   "cell_type": "code",
   "execution_count": null,
   "metadata": {},
   "outputs": [],
   "source": [
    "import seaborn as sns\n",
    "sns.residplot(y_true,y_pred)\n",
    "from sklearn.metrics import mean_squared_error as MSE\n",
    "'MSE:',MSE(y_true, y_pred)"
   ]
  },
  {
   "cell_type": "code",
   "execution_count": null,
   "metadata": {},
   "outputs": [],
   "source": [
    "pd.DataFrame((y_pred-y_true)).hist()"
   ]
  },
  {
   "cell_type": "code",
   "execution_count": null,
   "metadata": {},
   "outputs": [],
   "source": [
    "fig, ax =plt.subplots(figsize=(10,12))\n",
    "#scatter plot\n",
    "plt.scatter(x=train_set.logp, y=train_set.logs, marker='^', label='skup za vrednovanje')\n",
    "#regresijska linija\n",
    "x_space=np.array([min(train_set.logp),max(train_set.logp)])\n",
    "y_fit=x_space*fitter.coef_ + fitter.intercept_\n",
    "ax.plot(x_space,y_fit, linestyle='--', c='r', lw=3, label=\"regresijski pravac\")\n",
    "#\n",
    "ax.set_ylabel('logS', fontsize=20, color='red')\n",
    "ax.set_xlabel('logP', fontsize=20, color='green')\n",
    "ax.set_title('logS vs. logP', fontsize=20)\n",
    "plt.legend(fontsize=20)\n",
    "plt.savefig('fig6.png')"
   ]
  },
  {
   "cell_type": "code",
   "execution_count": null,
   "metadata": {},
   "outputs": [],
   "source": [
    "train_set[['logs','logp']].describe()"
   ]
  },
  {
   "cell_type": "code",
   "execution_count": null,
   "metadata": {},
   "outputs": [],
   "source": [
    "train_set[['logs','logp']].plot.box(figsize=(5,10), grid=True)"
   ]
  },
  {
   "cell_type": "code",
   "execution_count": null,
   "metadata": {},
   "outputs": [],
   "source": [
    "import statsmodels.api as sm\n",
    "x_sm=sm.add_constant(xtrain)\n",
    "model = sm.OLS(ytrain, x_sm)\n",
    "fitted_model = model.fit()\n",
    "\n",
    "fig, ax = plt.subplots(figsize=(12,8))\n",
    "fig = sm.graphics.influence_plot(fitted_model , alpha  = 0.05, ax=ax, criterion=\"cooks\")"
   ]
  },
  {
   "cell_type": "code",
   "execution_count": null,
   "metadata": {},
   "outputs": [],
   "source": [
    "xtrain[941]"
   ]
  },
  {
   "cell_type": "code",
   "execution_count": null,
   "metadata": {
    "scrolled": false
   },
   "outputs": [],
   "source": [
    "xtrain[692]"
   ]
  },
  {
   "cell_type": "code",
   "execution_count": null,
   "metadata": {},
   "outputs": [],
   "source": [
    "train_set[train_set.logp<-4.8][['smiles','logp']]"
   ]
  },
  {
   "cell_type": "code",
   "execution_count": null,
   "metadata": {},
   "outputs": [],
   "source": [
    "outlier1=train_set.smiles.loc[1056]\n",
    "outlier2=train_set.smiles.loc[105]"
   ]
  },
  {
   "cell_type": "code",
   "execution_count": null,
   "metadata": {},
   "outputs": [],
   "source": [
    "o1_mol=Chem.MolFromSmiles(outlier1)\n",
    "AllChem.Compute2DCoords(o1_mol)\n",
    "print(Chem.MolToMolBlock(o1_mol))  "
   ]
  },
  {
   "cell_type": "code",
   "execution_count": null,
   "metadata": {},
   "outputs": [],
   "source": [
    "Draw.MolToImage(o1_mol)"
   ]
  },
  {
   "cell_type": "code",
   "execution_count": null,
   "metadata": {},
   "outputs": [],
   "source": [
    "o2_mol=Chem.MolFromSmiles(outlier2)\n",
    "AllChem.Compute2DCoords(o2_mol)\n",
    "Draw.MolToImage(o2_mol)"
   ]
  }
 ],
 "metadata": {
  "kernelspec": {
   "display_name": "Python 3",
   "language": "python",
   "name": "python3"
  },
  "language_info": {
   "codemirror_mode": {
    "name": "ipython",
    "version": 3
   },
   "file_extension": ".py",
   "mimetype": "text/x-python",
   "name": "python",
   "nbconvert_exporter": "python",
   "pygments_lexer": "ipython3",
   "version": "3.6.6"
  }
 },
 "nbformat": 4,
 "nbformat_minor": 2
}
